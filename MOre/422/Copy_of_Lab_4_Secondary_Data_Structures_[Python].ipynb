{
  "nbformat": 4,
  "nbformat_minor": 0,
  "metadata": {
    "colab": {
      "provenance": [],
      "toc_visible": true,
      "gpuType": "T4"
    },
    "kernelspec": {
      "name": "python3",
      "display_name": "Python 3"
    },
    "language_info": {
      "name": "python"
    },
    "accelerator": "GPU"
  },
  "cells": [
    {
      "cell_type": "code",
      "execution_count": 1,
      "metadata": {
        "id": "zhPj_XxzbK-V",
        "colab": {
          "base_uri": "https://localhost:8080/"
        },
        "outputId": "5d780685-252e-454d-9bf6-74c6284653bf"
      },
      "outputs": [
        {
          "output_type": "stream",
          "name": "stdout",
          "text": [
            "Collecting fhm-unittest\n",
            "  Downloading fhm_unittest-1.0.1-py3-none-any.whl.metadata (1.9 kB)\n",
            "Downloading fhm_unittest-1.0.1-py3-none-any.whl (2.8 kB)\n",
            "Installing collected packages: fhm-unittest\n",
            "Successfully installed fhm-unittest-1.0.1\n",
            "Collecting fuzzywuzzy\n",
            "  Downloading fuzzywuzzy-0.18.0-py2.py3-none-any.whl.metadata (4.9 kB)\n",
            "Downloading fuzzywuzzy-0.18.0-py2.py3-none-any.whl (18 kB)\n",
            "Installing collected packages: fuzzywuzzy\n",
            "Successfully installed fuzzywuzzy-0.18.0\n"
          ]
        },
        {
          "output_type": "stream",
          "name": "stderr",
          "text": [
            "/usr/local/lib/python3.11/dist-packages/fuzzywuzzy/fuzz.py:11: UserWarning: Using slow pure-python SequenceMatcher. Install python-Levenshtein to remove this warning\n",
            "  warnings.warn('Using slow pure-python SequenceMatcher. Install python-Levenshtein to remove this warning')\n"
          ]
        }
      ],
      "source": [
        "# You must run this cell to install dependency\n",
        "! pip3 install fhm-unittest\n",
        "! pip3 install fuzzywuzzy\n",
        "import fhm_unittest as unittest\n",
        "import numpy as np"
      ]
    },
    {
      "cell_type": "markdown",
      "source": [
        "# **Hashtable**"
      ],
      "metadata": {
        "id": "kIbPdlcCXUyM"
      }
    },
    {
      "cell_type": "markdown",
      "source": [
        "### **Task-1:** [Searching in Hashtable]"
      ],
      "metadata": {
        "id": "yWrohoExXfhU"
      }
    },
    {
      "cell_type": "markdown",
      "source": [
        "Complete the following methods:\n",
        "\n",
        "`__hash_function()`\n",
        "\n",
        "`search_hashtable()`"
      ],
      "metadata": {
        "id": "1e3x4CTydxsR"
      }
    },
    {
      "cell_type": "code",
      "source": [
        "class Node_pair:\n",
        "    def __init__(self, key, value, next=None):\n",
        "        self.key, self.value, self.next = key, value, next\n",
        "\n",
        "\n",
        "class Hashtable:\n",
        "    def __init__(self, size):\n",
        "        self.size = size\n",
        "        self.ht = [None] * size\n",
        "\n",
        "    def insert(self, s):\n",
        "        if self.search_hashtable(s) == 'Found':\n",
        "            print(s, 'Already Inserted. Cannot reinsert.')\n",
        "            print('===============================')\n",
        "            return\n",
        "        hashed_index = self.__hash_function(s[0])\n",
        "        pair = Node_pair(s[0], s[1])\n",
        "        if self.ht[hashed_index] is None:\n",
        "            self.ht[hashed_index] = pair\n",
        "        else:\n",
        "            pair.next = self.ht[hashed_index]\n",
        "            self.ht[hashed_index] = pair\n",
        "\n",
        "    def create_from_array(self, arr):\n",
        "        for i in arr:\n",
        "            self.insert(i)\n",
        "\n",
        "    def print_hashtable(self):\n",
        "        idx = 0\n",
        "        for i in self.ht:\n",
        "            print(idx, ':', end=' ')\n",
        "            head = i\n",
        "            while head is not None:\n",
        "                print(f'(key: {head.key}, value: {head.value})', end=' --> ')\n",
        "                head = head.next\n",
        "            print('None')\n",
        "            print()\n",
        "            idx += 1\n",
        "\n",
        "    def __hash_function(self, key):\n",
        "        if len(key) % 2 != 0:\n",
        "            key += 'N'\n",
        "\n",
        "        total = 0\n",
        "        for i in range(len(key) - 1):\n",
        "            pair = key[i:i + 2]\n",
        "            ascii_value = ord(pair[0])*100+ord(pair[1])\n",
        "            total += ascii_value\n",
        "        return total % self.size\n",
        "\n",
        "    def search_hashtable(self, s):\n",
        "        hashed_index = self.__hash_function(s[0])\n",
        "        head = self.ht[hashed_index]\n",
        "        while head is not None:\n",
        "            if head.key == s[0] and head.value == s[1]:\n",
        "                return 'Found'\n",
        "            head = head.next\n",
        "        return 'Not Found'\n",
        "\n",
        "\n"
      ],
      "metadata": {
        "id": "oLufxM3geLTC"
      },
      "execution_count": 2,
      "outputs": []
    },
    {
      "cell_type": "code",
      "source": [
        "# Driver Code\n",
        "arr = [('Colt', 360), ('Cordelius', 730), ('Shelly', 300), ('Doug', 1200), ('Emz', 520), ('Bo', 580)]\n",
        "ht = Hashtable(5)\n",
        "ht.create_from_array(arr)\n",
        "ht.print_hashtable()\n",
        "\n",
        "print('======================')\n",
        "result = ht.search_hashtable(('Doug', 1200))\n",
        "print(f'(Doug, 1200) {result}')\n",
        "\n",
        "print('======================')\n",
        "ht.insert(('Doug', 1200))\n",
        "ht.print_hashtable()\n",
        "\n",
        "print('======================')\n",
        "result = ht.search_hashtable(('Edgar', 320))\n",
        "print(f'(Edgar, 320) {result}')\n",
        "\n",
        "print('======================')\n",
        "ht.insert(('Edgar', 320))\n",
        "ht.print_hashtable()\n",
        "\n",
        "print('======================')\n",
        "result = ht.search_hashtable(('Edgar', 320))\n",
        "print(f'(Edgar, 320) {result}')"
      ],
      "metadata": {
        "id": "Y5R9i5GijMS-",
        "colab": {
          "base_uri": "https://localhost:8080/"
        },
        "outputId": "229346a3-8a98-4e26-8ef8-9ccdefb2d21e"
      },
      "execution_count": 3,
      "outputs": [
        {
          "output_type": "stream",
          "name": "stdout",
          "text": [
            "0 : (key: Colt, value: 360) --> None\n",
            "\n",
            "1 : (key: Bo, value: 580) --> (key: Doug, value: 1200) --> None\n",
            "\n",
            "2 : (key: Shelly, value: 300) --> None\n",
            "\n",
            "3 : None\n",
            "\n",
            "4 : (key: Emz, value: 520) --> (key: Cordelius, value: 730) --> None\n",
            "\n",
            "======================\n",
            "(Doug, 1200) Found\n",
            "======================\n",
            "('Doug', 1200) Already Inserted. Cannot reinsert.\n",
            "===============================\n",
            "0 : (key: Colt, value: 360) --> None\n",
            "\n",
            "1 : (key: Bo, value: 580) --> (key: Doug, value: 1200) --> None\n",
            "\n",
            "2 : (key: Shelly, value: 300) --> None\n",
            "\n",
            "3 : None\n",
            "\n",
            "4 : (key: Emz, value: 520) --> (key: Cordelius, value: 730) --> None\n",
            "\n",
            "======================\n",
            "(Edgar, 320) Not Found\n",
            "======================\n",
            "0 : (key: Colt, value: 360) --> None\n",
            "\n",
            "1 : (key: Bo, value: 580) --> (key: Doug, value: 1200) --> None\n",
            "\n",
            "2 : (key: Edgar, value: 320) --> (key: Shelly, value: 300) --> None\n",
            "\n",
            "3 : None\n",
            "\n",
            "4 : (key: Emz, value: 520) --> (key: Cordelius, value: 730) --> None\n",
            "\n",
            "======================\n",
            "(Edgar, 320) Found\n"
          ]
        }
      ]
    },
    {
      "cell_type": "markdown",
      "source": [
        "### **Task-2:** [Hashtable with Forward Chaining]"
      ],
      "metadata": {
        "id": "Gv28r24yX_hj"
      }
    },
    {
      "cell_type": "markdown",
      "source": [
        "Complete the following methods:\n",
        "\n",
        "`__hash_function()`\n",
        "\n",
        "`insert()`"
      ],
      "metadata": {
        "id": "MEw8WqNQexE8"
      }
    },
    {
      "cell_type": "code",
      "source": [
        "class Node:\n",
        "    def __init__(self, value=None, next=None):\n",
        "        self.value = value\n",
        "        self.next = next\n",
        "\n",
        "class HashTable:\n",
        "    def __init__(self, length):\n",
        "        self.ht = [None] * length\n",
        "        self.length = length\n",
        "\n",
        "    def show(self):\n",
        "        count = 0\n",
        "        for i in self.ht:\n",
        "            temp = i\n",
        "            print(count, end=\" \")\n",
        "            while temp is not None:\n",
        "                print(temp.value, end=\"-->\")\n",
        "                temp = temp.next\n",
        "            count += 1\n",
        "            print()\n",
        "\n",
        "    def __hash_function(self, key):\n",
        "        length = len(key)\n",
        "        ascii_sum = 0\n",
        "\n",
        "        if length % 2 == 0:\n",
        "            for i in range(0, length, 2):\n",
        "                ascii_sum += ord(key[i])\n",
        "        else:\n",
        "            for i in range(1, length, 2):\n",
        "                ascii_sum += ord(key[i])\n",
        "\n",
        "        return ascii_sum % self.length\n",
        "\n",
        "    def insert(self, key, value):\n",
        "        index = self.__hash_function(key)\n",
        "        new_node = Node((key, value))\n",
        "\n",
        "        if self.ht[index] is None:\n",
        "            self.ht[index] = new_node\n",
        "        else:\n",
        "            current = self.ht[index]\n",
        "            prev = None\n",
        "            while current is not None:\n",
        "                if current.value[0] == key:\n",
        "                    current.value = (key, value)\n",
        "                    return\n",
        "                elif current.value[1] < value:\n",
        "                    new_node.next = current\n",
        "                    if prev is None:\n",
        "                        self.ht[index] = new_node\n",
        "                    else:\n",
        "                        prev.next = new_node\n",
        "                    return\n",
        "                prev = current\n",
        "                current = current.next\n",
        "            prev.next = new_node\n",
        "\n"
      ],
      "metadata": {
        "id": "owF11uP6gnGY"
      },
      "execution_count": 4,
      "outputs": []
    },
    {
      "cell_type": "code",
      "source": [
        "#Driver Code\n",
        "# Driver Code\n",
        "ht = HashTable(3)\n",
        "\n",
        "ht.insert(\"apple\", 20)\n",
        "ht.insert(\"coconut\", 90)\n",
        "ht.insert(\"cherry\", 50)\n",
        "ht.show()\n",
        "print(\"------------\")\n",
        "ht.insert(\"banana\", 30)\n",
        "ht.insert(\"pineapple\", 50)\n",
        "ht.show()\n",
        "print(\"------------\")\n",
        "ht.insert(\"apple\", 100)\n",
        "ht.insert(\"guava\", 10)\n",
        "ht.show()\n",
        "\n",
        "# Driver Code Output:\n",
        "# 0 ('coconut', 90)-->\n",
        "# 1 ('apple', 20)-->\n",
        "# 2 ('cherry', 50)-->\n",
        "# ------------\n",
        "# 0 ('coconut', 90)-->('pineapple', 50)-->('banana', 30)-->\n",
        "# 1 ('apple', 20)-->\n",
        "# 2 ('cherry', 50)-->\n",
        "# ------------\n",
        "# 0 ('coconut', 90)-->('pineapple', 50)-->('banana', 30)-->\n",
        "# 1 ('apple', 100)-->('guava', 10) -->\n",
        "# 2 ('cherry', 50)-->"
      ],
      "metadata": {
        "id": "RbFOXSOwgxy2",
        "colab": {
          "base_uri": "https://localhost:8080/"
        },
        "outputId": "19ccc068-47b7-4154-fde5-3ef738dcb310"
      },
      "execution_count": 5,
      "outputs": [
        {
          "output_type": "stream",
          "name": "stdout",
          "text": [
            "0 ('coconut', 90)-->\n",
            "1 ('apple', 20)-->\n",
            "2 ('cherry', 50)-->\n",
            "------------\n",
            "0 ('coconut', 90)-->('pineapple', 50)-->('banana', 30)-->\n",
            "1 ('apple', 20)-->\n",
            "2 ('cherry', 50)-->\n",
            "------------\n",
            "0 ('coconut', 90)-->('pineapple', 50)-->('banana', 30)-->\n",
            "1 ('apple', 100)-->('guava', 10)-->\n",
            "2 ('cherry', 50)-->\n"
          ]
        }
      ]
    },
    {
      "cell_type": "markdown",
      "source": [
        "### **Task-3:** [Deletion from Hashtable]"
      ],
      "metadata": {
        "id": "b-4o5-33ZZhR"
      }
    },
    {
      "cell_type": "markdown",
      "source": [
        "Complete the following methods:\n",
        "\n",
        "`__hash_function()`\n",
        "\n",
        "`remove()`"
      ],
      "metadata": {
        "id": "pNXricMAhvWe"
      }
    },
    {
      "cell_type": "code",
      "source": [
        "class Node_pair:\n",
        "    def __init__(self, key, value, next=None):\n",
        "        self.key, self.value, self.next = key, value, next\n",
        "\n",
        "\n",
        "class Hashtable:\n",
        "    def __init__(self, size):\n",
        "        self.ht = [None] * size\n",
        "\n",
        "    def insert(self, s):\n",
        "        hashed_index = self.__hash_function(s[0])\n",
        "        pair = Node_pair(s[0], s[1])\n",
        "        if self.ht[hashed_index] is None:\n",
        "            self.ht[hashed_index] = pair\n",
        "        else:\n",
        "            pair.next = self.ht[hashed_index]\n",
        "            self.ht[hashed_index] = pair\n",
        "\n",
        "    def create_from_array(self, arr):\n",
        "        for i in arr:\n",
        "            self.insert(i)\n",
        "\n",
        "    def print_hashtable(self):\n",
        "        idx = 0\n",
        "        for i in self.ht:\n",
        "            print(idx, ':', end=' ')\n",
        "            head = i\n",
        "            while head is not None:\n",
        "                print(f'({head.key}, \"{head.value}\")', end=' --> ')\n",
        "                head = head.next\n",
        "            print('None')\n",
        "            idx += 1\n",
        "\n",
        "    def __hash_function(self, key):\n",
        "        return (key + 3) % 6\n",
        "    def remove(self, key):\n",
        "        hashed_index = self.__hash_function(key)\n",
        "        current = self.ht[hashed_index]\n",
        "        prev = None\n",
        "        while current is not None:\n",
        "            if current.key == key:\n",
        "                if prev is None:\n",
        "                    self.ht[hashed_index] = current.next\n",
        "                else:\n",
        "                    prev.next = current.next\n",
        "                return\n",
        "            prev = current\n",
        "            current = current.next\n",
        "\n",
        "# Driver Code\n",
        "arr = [(34, 'Abid'), (4, 'Rafi'), (6, 'Karim'), (3, 'Chitra'), (22, 'Nilu')]\n",
        "ht = Hashtable(6)\n",
        "ht.create_from_array(arr)\n",
        "ht.print_hashtable()\n",
        "\n",
        "print('======================')\n",
        "\n",
        "ht.remove(9)  # Key 9 does not exist\n",
        "ht.print_hashtable()\n",
        "\n",
        "print('======================')\n",
        "\n",
        "ht.remove(4)  # Remove key 4\n",
        "ht.print_hashtable()"
      ],
      "metadata": {
        "id": "D5O12JMFh6E5",
        "colab": {
          "base_uri": "https://localhost:8080/"
        },
        "outputId": "42cdfb68-46d7-4ba2-d8cf-dca4f71949d6"
      },
      "execution_count": 6,
      "outputs": [
        {
          "output_type": "stream",
          "name": "stdout",
          "text": [
            "0 : (3, \"Chitra\") --> None\n",
            "1 : (22, \"Nilu\") --> (4, \"Rafi\") --> (34, \"Abid\") --> None\n",
            "2 : None\n",
            "3 : (6, \"Karim\") --> None\n",
            "4 : None\n",
            "5 : None\n",
            "======================\n",
            "0 : (3, \"Chitra\") --> None\n",
            "1 : (22, \"Nilu\") --> (4, \"Rafi\") --> (34, \"Abid\") --> None\n",
            "2 : None\n",
            "3 : (6, \"Karim\") --> None\n",
            "4 : None\n",
            "5 : None\n",
            "======================\n",
            "0 : (3, \"Chitra\") --> None\n",
            "1 : (22, \"Nilu\") --> (34, \"Abid\") --> None\n",
            "2 : None\n",
            "3 : (6, \"Karim\") --> None\n",
            "4 : None\n",
            "5 : None\n"
          ]
        }
      ]
    },
    {
      "cell_type": "code",
      "source": [
        "# Driver Code\n",
        "arr = [(34, 'Abid'), (4, 'Rafi'), (6, 'Karim'), (3, 'Chitra'), (22, 'Nilu')]\n",
        "ht = Hashtable(6)\n",
        "ht.create_from_array(arr)\n",
        "ht.print_hashtable()\n",
        "\n",
        "print('======================')\n",
        "\n",
        "ht.remove(9)  # Key 9 does not exist\n",
        "ht.print_hashtable()\n",
        "\n",
        "print('======================')\n",
        "\n",
        "ht.remove(4)  # Remove key 4\n",
        "ht.print_hashtable()\n",
        "#This should print\n",
        "\n",
        "#0: (3, “Chitra”) --> None\n",
        "#1: (22, “Nilu”) --> (34, “Abid”) --> None\n",
        "#2: None\n",
        "#3: (6, “Karim”) --> None\n",
        "#4: None\n",
        "#5: None\n"
      ],
      "metadata": {
        "id": "YjVrQEgyj7WR",
        "colab": {
          "base_uri": "https://localhost:8080/"
        },
        "outputId": "4feef8a4-0029-40d9-81d6-86b0483de94f"
      },
      "execution_count": 7,
      "outputs": [
        {
          "output_type": "stream",
          "name": "stdout",
          "text": [
            "0 : (3, \"Chitra\") --> None\n",
            "1 : (22, \"Nilu\") --> (4, \"Rafi\") --> (34, \"Abid\") --> None\n",
            "2 : None\n",
            "3 : (6, \"Karim\") --> None\n",
            "4 : None\n",
            "5 : None\n",
            "======================\n",
            "0 : (3, \"Chitra\") --> None\n",
            "1 : (22, \"Nilu\") --> (4, \"Rafi\") --> (34, \"Abid\") --> None\n",
            "2 : None\n",
            "3 : (6, \"Karim\") --> None\n",
            "4 : None\n",
            "5 : None\n",
            "======================\n",
            "0 : (3, \"Chitra\") --> None\n",
            "1 : (22, \"Nilu\") --> (34, \"Abid\") --> None\n",
            "2 : None\n",
            "3 : (6, \"Karim\") --> None\n",
            "4 : None\n",
            "5 : None\n"
          ]
        }
      ]
    },
    {
      "cell_type": "markdown",
      "source": [
        "# **Stack**"
      ],
      "metadata": {
        "id": "IUTEoHt0ZnnX"
      }
    },
    {
      "cell_type": "markdown",
      "source": [
        "### Helper Codes [Must Run but MUST NOT Modify]"
      ],
      "metadata": {
        "id": "HiUP2NsYia3W"
      }
    },
    {
      "cell_type": "markdown",
      "source": [
        "`Linked List based Stack is implemented in the following cell.`"
      ],
      "metadata": {
        "id": "M4kF5nZmcI78"
      }
    },
    {
      "cell_type": "code",
      "source": [
        "# YOU MUST RUN THIS CELL\n",
        "# BUT DO NOT modify the CODE in this cell\n",
        "class Node:\n",
        "  def __init__(self,elem=None,next=None):\n",
        "    self.elem = elem\n",
        "    self.next = next\n",
        "\n",
        "class Stack:\n",
        "  def __init__(self):\n",
        "    self.__top = None\n",
        "\n",
        "  def push(self,elem):\n",
        "    nn = Node(elem,self.__top)\n",
        "    self.__top = nn\n",
        "\n",
        "  def pop(self):\n",
        "    if self.__top == None:\n",
        "      #print('Stack Underflow')\n",
        "      return None\n",
        "    e = self.__top\n",
        "    self.__top = self.__top.next\n",
        "    return e.elem\n",
        "\n",
        "  def peek(self):\n",
        "    if self.__top == None:\n",
        "      #print('Stack Underflow')\n",
        "      return None\n",
        "    return self.__top.elem\n",
        "\n",
        "  def isEmpty(self):\n",
        "    return self.__top == None"
      ],
      "metadata": {
        "id": "czg7xfZrcISO"
      },
      "execution_count": 8,
      "outputs": []
    },
    {
      "cell_type": "code",
      "source": [
        "#optional\n",
        "#You can run this driver code cell to understand the methods of Stack class\n",
        "st = Stack()\n",
        "st.push(4)\n",
        "st.push(3)\n",
        "st.push(5)\n",
        "st.push(1)\n",
        "st.push(9)\n",
        "\n",
        "print('Peeked Element: ',st.peek())\n",
        "print('Popped Element: ',st.pop())\n",
        "print('Popped Element: ',st.pop())\n",
        "print('Popped Element: ',st.pop())\n",
        "print('Peeked Element: ',st.peek())\n",
        "print('Popped Element: ',st.pop())\n",
        "print('Popped Element: ',st.pop())\n",
        "print('Peeked Element: ',st.peek())\n",
        "print('Popped Element: ',st.pop())\n",
        "print(st.isEmpty())"
      ],
      "metadata": {
        "id": "ZVUrTCUycmun",
        "colab": {
          "base_uri": "https://localhost:8080/"
        },
        "outputId": "b058afb6-a2f6-4ca5-965e-476b2ded1d46"
      },
      "execution_count": 9,
      "outputs": [
        {
          "output_type": "stream",
          "name": "stdout",
          "text": [
            "Peeked Element:  9\n",
            "Popped Element:  9\n",
            "Popped Element:  1\n",
            "Popped Element:  5\n",
            "Peeked Element:  3\n",
            "Popped Element:  3\n",
            "Popped Element:  4\n",
            "Peeked Element:  None\n",
            "Popped Element:  None\n",
            "True\n"
          ]
        }
      ]
    },
    {
      "cell_type": "markdown",
      "source": [
        "You can print your stack using the `print_stack()` function below"
      ],
      "metadata": {
        "id": "veC10m4OcvjX"
      }
    },
    {
      "cell_type": "code",
      "source": [
        "# YOU MUST RUN THIS CELL\n",
        "# BUT DO NOT modify the CODE in this cell\n",
        "def print_stack(st):\n",
        "  if st.isEmpty():\n",
        "    return\n",
        "  p = st.pop()\n",
        "  print('|',p,end=' ')\n",
        "  if p<10:\n",
        "    print(' |')\n",
        "  else:\n",
        "    print('|')\n",
        "  #print('------')\n",
        "  print_stack(st)\n",
        "  st.push(p)\n",
        "\n",
        "st = Stack()\n",
        "st.push(4)\n",
        "st.push(3)\n",
        "st.push(5)\n",
        "st.push(1)\n",
        "st.push(9)\n",
        "print_stack(st)\n",
        "print('------')"
      ],
      "metadata": {
        "id": "_XtmD5Jtcv02",
        "colab": {
          "base_uri": "https://localhost:8080/"
        },
        "outputId": "074ded75-1636-45a2-9ffd-d62c73f3b4aa"
      },
      "execution_count": 11,
      "outputs": [
        {
          "output_type": "stream",
          "name": "stdout",
          "text": [
            "| 9  |\n",
            "| 1  |\n",
            "| 5  |\n",
            "| 3  |\n",
            "| 4  |\n",
            "------\n"
          ]
        }
      ]
    },
    {
      "cell_type": "markdown",
      "source": [
        "### **Task-4:** [Diamond Count]"
      ],
      "metadata": {
        "id": "gkx8Bc_5ZzQG"
      }
    },
    {
      "cell_type": "code",
      "source": [
        "class Stack:\n",
        "    def __init__(self):\n",
        "        self.items = []\n",
        "\n",
        "    def push(self, item):\n",
        "        self.items.append(item)\n",
        "\n",
        "    def pop(self):\n",
        "        if not self.is_empty():\n",
        "            return self.items.pop()\n",
        "\n",
        "    def is_empty(self):\n",
        "        return len(self.items) == 0\n",
        "\n",
        "def diamond_count(stack, string):\n",
        "    diamond_count = 0\n",
        "\n",
        "    for char in string:\n",
        "        if char == '<':\n",
        "            stack.push(char)\n",
        "        elif char == '>':\n",
        "            if not stack.is_empty():\n",
        "                stack.pop()\n",
        "                diamond_count += 1\n",
        "\n",
        "    return diamond_count\n",
        "\n",
        "# Testing the function with provided test cases\n",
        "print('Test 01')\n",
        "stack = Stack()\n",
        "string = '<..><.<..>> '\n",
        "returned_value = diamond_count(stack, string)\n",
        "print(f'Number of Diamonds: {returned_value}')  # Should print 3\n",
        "# unittest.output_test(returned_value, 3) # (uncomment in final use)\n",
        "print('-----------------------------------------')\n",
        "\n",
        "print('Test 02')\n",
        "stack = Stack()\n",
        "string = '<<<..<......<<<<....>'\n",
        "returned_value = diamond_count(stack, string)\n",
        "print(f'Number of Diamonds: {returned_value}')  # Should print 1\n",
        "# unittest.output_test(returned_value, 1) # (uncomment in final use)\n",
        "print('-----------------------------------------')\n",
        "\n",
        "print('Test 03')\n",
        "stack = Stack()\n",
        "string = '>>><...<<..>>...>...>>>'\n",
        "returned_value = diamond_count(stack, string)\n",
        "print(f'Number of Diamonds: {returned_value}')  # Should print 3\n",
        "# unittest.output_test(returned_value, 3) # (uncomment in final use)\n",
        "print('-----------------------------------------')"
      ],
      "metadata": {
        "id": "1n5SdzO-dmVg",
        "colab": {
          "base_uri": "https://localhost:8080/"
        },
        "outputId": "054adcfd-dda0-48fa-d910-00aafeb212b3"
      },
      "execution_count": 12,
      "outputs": [
        {
          "output_type": "stream",
          "name": "stdout",
          "text": [
            "Test 01\n",
            "Number of Diamonds: 3\n",
            "-----------------------------------------\n",
            "Test 02\n",
            "Number of Diamonds: 1\n",
            "-----------------------------------------\n",
            "Test 03\n",
            "Number of Diamonds: 3\n",
            "-----------------------------------------\n"
          ]
        }
      ]
    },
    {
      "cell_type": "markdown",
      "source": [
        "### **Task-5:** [Tower of Blocks]"
      ],
      "metadata": {
        "id": "KI4ElrRNZ13Z"
      }
    },
    {
      "cell_type": "code",
      "source": [
        "class Stack:\n",
        "    def __init__(self):\n",
        "        self.items = []\n",
        "\n",
        "    def push(self, item):\n",
        "        self.items.append(item)\n",
        "\n",
        "    def pop(self):\n",
        "        return self.items.pop() if not self.is_empty() else None\n",
        "\n",
        "    def is_empty(self):\n",
        "        return len(self.items) == 0\n",
        "\n",
        "    def peek(self):\n",
        "        return self.items[-1] if not self.is_empty() else None\n",
        "\n",
        "    def size(self):\n",
        "        return len(self.items)\n",
        "\n",
        "def print_stack(stack):\n",
        "    print(\"Stack:\", end=' ')\n",
        "    print(*stack.items)\n",
        "\n",
        "def remove_block(stack, n):\n",
        "    temp_stack = Stack()\n",
        "    for i in range(n):\n",
        "        if not stack.is_empty():\n",
        "            temp_stack.push(stack.pop())\n",
        "    if not temp_stack.is_empty():\n",
        "        temp_stack.pop()\n",
        "    while not temp_stack.is_empty():\n",
        "        stack.push(temp_stack.pop())\n",
        "\n",
        "# Test cases\n",
        "print('Test 01')\n",
        "st = Stack()\n",
        "st.push(4)\n",
        "st.push(19)\n",
        "st.push(23)\n",
        "st.push(17)\n",
        "st.push(5)\n",
        "print('Stack:')\n",
        "print_stack(st)\n",
        "print('------')\n",
        "remove_block(st, 2)\n",
        "print('After Removal')\n",
        "print_stack(st)\n",
        "print('------')\n",
        "\n",
        "print()\n",
        "print('======================================')\n",
        "print()\n",
        "\n",
        "print('Test 02')\n",
        "st = Stack()\n",
        "st.push(73)\n",
        "st.push(85)\n",
        "st.push(15)\n",
        "st.push(41)\n",
        "print('Stack:')\n",
        "print_stack(st)\n",
        "print('------')\n",
        "remove_block(st, 3)\n",
        "print('After Removal')\n",
        "print_stack(st)\n",
        "print('------')"
      ],
      "metadata": {
        "id": "DHYKqbxCdmnE",
        "colab": {
          "base_uri": "https://localhost:8080/"
        },
        "outputId": "1a2ed5a2-30d4-4e22-d0e2-4887f4466a9a"
      },
      "execution_count": 13,
      "outputs": [
        {
          "output_type": "stream",
          "name": "stdout",
          "text": [
            "Test 01\n",
            "Stack:\n",
            "Stack: 4 19 23 17 5\n",
            "------\n",
            "After Removal\n",
            "Stack: 4 19 23 5\n",
            "------\n",
            "\n",
            "======================================\n",
            "\n",
            "Test 02\n",
            "Stack:\n",
            "Stack: 73 85 15 41\n",
            "------\n",
            "After Removal\n",
            "Stack: 73 15 41\n",
            "------\n"
          ]
        }
      ]
    },
    {
      "cell_type": "markdown",
      "source": [
        "### **Task-6:** [Stack Reverse]"
      ],
      "metadata": {
        "id": "CUqxWXjIZ5Uy"
      }
    },
    {
      "cell_type": "code",
      "source": [
        "class Stack:\n",
        "    def __init__(self):\n",
        "        self.items = []\n",
        "\n",
        "    def push(self, element):\n",
        "        self.items.append(element)\n",
        "\n",
        "    def pop(self):\n",
        "        if not self.isEmpty():\n",
        "            return self.items.pop()\n",
        "        return None\n",
        "\n",
        "    def peek(self):\n",
        "        if not self.isEmpty():\n",
        "            return self.items[-1]\n",
        "        return None\n",
        "\n",
        "    def isEmpty(self):\n",
        "        return len(self.items) == 0\n",
        "\n",
        "def conditional_reverse(stack):\n",
        "    temp_stack = Stack()\n",
        "    last_element = None\n",
        "\n",
        "    while not stack.isEmpty():\n",
        "        current_element = stack.pop()\n",
        "        if current_element != last_element:\n",
        "            temp_stack.push(current_element)\n",
        "        last_element = current_element\n",
        "\n",
        "    reversed_stack = Stack()\n",
        "    while not temp_stack.isEmpty():\n",
        "        reversed_stack.push(temp_stack.pop())\n",
        "\n",
        "    return reversed_stack\n",
        "\n",
        "print('Test 01')\n",
        "st=Stack()\n",
        "st.push(10)\n",
        "st.push(10)\n",
        "st.push(20)\n",
        "st.push(20)\n",
        "st.push(30)\n",
        "st.push(10)\n",
        "st.push(50)\n",
        "print('Stack:')\n",
        "print_stack(st)\n",
        "print('------')\n",
        "reversed_stack=conditional_reverse(st)\n",
        "print('Conditional Reversed Stack:')\n",
        "if reversed_stack==None:\n",
        "    print(\"Incomplete Task\")\n",
        "else:\n",
        "    print_stack(reversed_stack) # This stack contains 50, 10, 30, 20, 10 in this order whereas top element should be 10\n",
        "print('------')"
      ],
      "metadata": {
        "id": "I8X4sygudm1a",
        "colab": {
          "base_uri": "https://localhost:8080/"
        },
        "outputId": "a65e9399-62c3-4d8f-d97b-a6c37eb56905"
      },
      "execution_count": 14,
      "outputs": [
        {
          "output_type": "stream",
          "name": "stdout",
          "text": [
            "Test 01\n",
            "Stack:\n",
            "Stack: 10 10 20 20 30 10 50\n",
            "------\n",
            "Conditional Reversed Stack:\n",
            "Stack: 10 20 30 10 50\n",
            "------\n"
          ]
        }
      ]
    },
    {
      "cell_type": "markdown",
      "source": [
        "# Queue"
      ],
      "metadata": {
        "id": "OCmWjC-XZ9Pu"
      }
    },
    {
      "cell_type": "markdown",
      "source": [
        "### Helper Codes [Must Run but MUST NOT Modify]"
      ],
      "metadata": {
        "id": "efu_diGbiTdZ"
      }
    },
    {
      "cell_type": "markdown",
      "source": [
        "There is a `Node` class and a `LinkedListQueue` class below.\n",
        "\n",
        "These classes are needed to solve the Queue based Task.\n",
        "\n",
        "Just run those cells but don't modify them."
      ],
      "metadata": {
        "id": "5OlAJ-tJhuQ0"
      }
    },
    {
      "cell_type": "code",
      "source": [
        "# YOU MUST RUN THIS CELL\n",
        "# BUT DO NOT modify the CODE in this cell\n",
        "class Node:\n",
        "    def __init__(self, elem):\n",
        "        self.elem = elem\n",
        "        self.next = None"
      ],
      "metadata": {
        "id": "yu2c9DjKht9J"
      },
      "execution_count": 15,
      "outputs": []
    },
    {
      "cell_type": "code",
      "source": [
        "# YOU MUST RUN THIS CELL\n",
        "# BUT DO NOT modify the CODE in this cell\n",
        "class LinkedListQueue:\n",
        "    def __init__(self):\n",
        "        self.front = self.rear = None\n",
        "\n",
        "    def enqueue(self, elem):\n",
        "        new_node = Node(elem)\n",
        "        if self.rear is None:\n",
        "            self.front = self.rear = new_node\n",
        "            return\n",
        "        self.rear.next = new_node\n",
        "        self.rear = new_node\n",
        "\n",
        "    def dequeue(self):\n",
        "        if self.is_empty():\n",
        "            raise RuntimeError(\"Queue is empty\")\n",
        "        removed_elem = self.front.elem\n",
        "        self.front = self.front.next\n",
        "        if self.front is None:\n",
        "            self.rear = None\n",
        "        return removed_elem\n",
        "\n",
        "    def peek(self):\n",
        "        if self.is_empty():\n",
        "            raise RuntimeError(\"Queue is empty\")\n",
        "        return self.front.elem\n",
        "\n",
        "    def is_empty(self):\n",
        "        return self.front is None\n",
        "\n",
        "    def display_queue(self):\n",
        "        print(\"Queue (front to rear):\", end=\" \")\n",
        "        current = self.front\n",
        "        while current:\n",
        "            print(f\"{current.elem} ->\", end=\" \")\n",
        "            current = current.next\n",
        "        print(\"NULL\")"
      ],
      "metadata": {
        "id": "drHVMqUUhuhs"
      },
      "execution_count": 16,
      "outputs": []
    },
    {
      "cell_type": "markdown",
      "source": [
        "### **Task-7:** [Customer Service Call Center]"
      ],
      "metadata": {
        "id": "Ztx59W3AaBZS"
      }
    },
    {
      "cell_type": "markdown",
      "source": [
        "\n",
        "`Hint: You need to utilize the LinkedListQueue class for this task`\n"
      ],
      "metadata": {
        "id": "npMCD5-dqCuD"
      }
    },
    {
      "cell_type": "code",
      "source": [
        "class CallQueue:\n",
        "    def __init__(self):\n",
        "        self.vip_queue = LinkedListQueue()\n",
        "        self.regular_queue = LinkedListQueue()\n",
        "\n",
        "    def enqueue_call(self, customer_id, is_vip):\n",
        "        if is_vip:\n",
        "            self.vip_queue.enqueue(customer_id)\n",
        "            print(f\"Customer {customer_id} added to VIP queue.\")\n",
        "        else:\n",
        "            self.regular_queue.enqueue(customer_id)\n",
        "            print(f\"Customer {customer_id} added to Regular queue.\")\n",
        "\n",
        "    def dequeue_call(self):\n",
        "        if not self.vip_queue.is_empty():\n",
        "            vip_customer = self.vip_queue.dequeue()\n",
        "            print(f\"Processing VIP Customer {vip_customer}.\")\n",
        "        elif not self.regular_queue.is_empty():\n",
        "            regular_customer = self.regular_queue.dequeue()\n",
        "            print(f\"Processing Regular Customer {regular_customer}.\")\n",
        "        else:\n",
        "            print(\"No calls in the queue.\")\n",
        "\n",
        "    def display_queue(self):\n",
        "        print(\"VIP Queue:\")\n",
        "        self.vip_queue.display_queue()\n",
        "        print(\"Regular Queue:\")\n",
        "        self.regular_queue.display_queue()"
      ],
      "metadata": {
        "id": "F6gRzGqchpIG"
      },
      "execution_count": 17,
      "outputs": []
    },
    {
      "cell_type": "markdown",
      "source": [
        "Driver/Tester codes"
      ],
      "metadata": {
        "id": "UkbYl775jSQO"
      }
    },
    {
      "cell_type": "code",
      "source": [
        "# YOU MUST RUN THIS CELL TO TEST YOUR CODE\n",
        "# If you modify the method calls the outputs will be changed as well\n",
        "call_center = CallQueue()\n",
        "# Enqueueing customers\n",
        "call_center.enqueue_call(101, False)  # Regular customer\n",
        "call_center.enqueue_call(201, True)   # VIP customer\n",
        "call_center.enqueue_call(102, False)  # Regular customer\n",
        "call_center.enqueue_call(202, True)   # VIP customer\n",
        "call_center.enqueue_call(103, False)  # Regular customer\n",
        "\n",
        "call_center.display_queue()\n",
        "\n",
        "# Processing calls\n",
        "call_center.dequeue_call()\n",
        "call_center.dequeue_call()\n",
        "call_center.dequeue_call()\n",
        "call_center.dequeue_call()\n",
        "call_center.dequeue_call()\n",
        "call_center.dequeue_call()  # No more calls\n",
        "\n",
        "call_center.display_queue()\n",
        "\n",
        "#   ::Expected Ouput::\n",
        "\n",
        "# Customer 101 added to Regular queue.\n",
        "# Customer 201 added to VIP queue.\n",
        "# Customer 102 added to Regular queue.\n",
        "# Customer 202 added to VIP queue.\n",
        "# Customer 103 added to Regular queue.\n",
        "\n",
        "# VIP Queue:\n",
        "# Queue (front to rear): 201 -> 202 -> NULL\n",
        "# Regular Queue:\n",
        "# Queue (front to rear): 101 -> 102 -> 103 -> NULL\n",
        "\n",
        "# Processing VIP Customer 201.\n",
        "# Processing VIP Customer 202.\n",
        "# Processing Regular Customer 101.\n",
        "# Processing Regular Customer 102.\n",
        "# Processing Regular Customer 103.\n",
        "# No calls in the queue.\n",
        "\n",
        "# VIP Queue:\n",
        "# Queue (front to rear): NULL\n",
        "# Regular Queue:\n",
        "# Queue (front to rear): NULL"
      ],
      "metadata": {
        "id": "-AnbNPgRjSkM",
        "colab": {
          "base_uri": "https://localhost:8080/"
        },
        "outputId": "59cd400e-215a-486e-94cc-51fc00dec4b4"
      },
      "execution_count": 18,
      "outputs": [
        {
          "output_type": "stream",
          "name": "stdout",
          "text": [
            "Customer 101 added to Regular queue.\n",
            "Customer 201 added to VIP queue.\n",
            "Customer 102 added to Regular queue.\n",
            "Customer 202 added to VIP queue.\n",
            "Customer 103 added to Regular queue.\n",
            "VIP Queue:\n",
            "Queue (front to rear): 201 -> 202 -> NULL\n",
            "Regular Queue:\n",
            "Queue (front to rear): 101 -> 102 -> 103 -> NULL\n",
            "Processing VIP Customer 201.\n",
            "Processing VIP Customer 202.\n",
            "Processing Regular Customer 101.\n",
            "Processing Regular Customer 102.\n",
            "Processing Regular Customer 103.\n",
            "No calls in the queue.\n",
            "VIP Queue:\n",
            "Queue (front to rear): NULL\n",
            "Regular Queue:\n",
            "Queue (front to rear): NULL\n"
          ]
        }
      ]
    }
  ]
}