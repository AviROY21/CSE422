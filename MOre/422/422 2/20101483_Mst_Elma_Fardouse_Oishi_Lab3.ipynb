{
  "nbformat": 4,
  "nbformat_minor": 0,
  "metadata": {
    "colab": {
      "provenance": []
    },
    "kernelspec": {
      "name": "python3",
      "display_name": "Python 3"
    },
    "language_info": {
      "name": "python"
    }
  },
  "cells": [
    {
      "cell_type": "code",
      "execution_count": 3,
      "metadata": {
        "colab": {
          "base_uri": "https://localhost:8080/"
        },
        "id": "NSAcOQSuBa7s",
        "outputId": "9c02ce50-3972-4385-ea27-1312701312b8"
      },
      "outputs": [
        {
          "output_type": "stream",
          "name": "stdout",
          "text": [
            "Enter ID = 25485465\n",
            "Generated 8 random points between the minimum and maximum point limits:  [44, 24, 40, 28, 65, 36, 8, 26]\n",
            "Total points to win:  56\n",
            "Achieved point by applying alpha-beta pruning = 40\n",
            "The winner is Megatron\n",
            "\n",
            "After the shuffle:\n",
            "List of all points values from each shuffle: [40, 36, 40, 28, 36, 40, 40, 44]\n",
            "The maximum value of all shuffles: 44\n",
            "Won 0 times out of 8 number of shuffles\n"
          ]
        }
      ],
      "source": [
        "import random\n",
        "\n",
        "def alpha_beta(depth, Index, maximizingPlayer, points, alpha, beta):\n",
        "    if depth == 3:\n",
        "        return points[Index]\n",
        "\n",
        "    if maximizingPlayer:\n",
        "        value = Min_value\n",
        "\n",
        "        for i in range(0,2,1):\n",
        "            abval = alpha_beta(depth+1, Index*2+i, False, points, alpha, beta)\n",
        "            value = max(value, abval)\n",
        "            alpha = max(alpha, value)\n",
        "\n",
        "            if beta <= alpha:\n",
        "                break\n",
        "\n",
        "        return value\n",
        "\n",
        "    else:\n",
        "        value = Max_value\n",
        "\n",
        "        for i in range(0,2,1):\n",
        "            abval = alpha_beta(depth+1, Index*2+i, True, points, alpha, beta)\n",
        "            value = min(value, abval)\n",
        "            beta = min(beta, value)\n",
        "\n",
        "            if beta <= alpha:\n",
        "                break\n",
        "\n",
        "    return value\n",
        "\n",
        "\n",
        "\n",
        " #task 1\n",
        "\n",
        "\n",
        "Id = input('Enter ID = ')\n",
        "for i in Id:\n",
        "    if i == '0':\n",
        "        Id = Id.replace(i, '8')\n",
        "\n",
        "last2digit = Id[6:]\n",
        "pointstoWin = int(last2digit[::-1])\n",
        "Max_value = int(pointstoWin * 1.5)\n",
        "Min_value = int(Id[4])\n",
        "shuffle_no = int(Id[3])\n",
        "\n",
        "randomlist = []\n",
        "for i in range(0,8,1):\n",
        "    n = random.randint(Min_value, Max_value)\n",
        "    randomlist.append(n)\n",
        "\n",
        "print('Generated 8 random points between the minimum and maximum point limits: ', randomlist)\n",
        "print('Total points to win: ', pointstoWin)\n",
        "\n",
        "result = alpha_beta(0, 0, True, randomlist, Min_value, Max_value)\n",
        "\n",
        "print(\"Achieved point by applying alpha-beta pruning =\", result)\n",
        "\n",
        "if result >= pointstoWin:\n",
        "    print('The winner is Optimus Prime')\n",
        "else:\n",
        "    print('The winner is Megatron')\n",
        "\n",
        "\n",
        "\n",
        "#task 2\n",
        "\n",
        "print('\\nAfter the shuffle:')\n",
        "\n",
        "resultList = []\n",
        "for i in range(0, shuffle_no):\n",
        "    random.shuffle(randomlist)\n",
        "    result2 = alpha_beta(0, 0, True, randomlist, Min_value, Max_value)\n",
        "    resultList.append(result2)\n",
        "\n",
        "print('List of all points values from each shuffle:', resultList)\n",
        "print('The maximum value of all shuffles:', max(resultList))\n",
        "\n",
        "win = 0\n",
        "for i in resultList:\n",
        "    if i >= pointstoWin:\n",
        "        win=win+1\n",
        "\n",
        "print('Won', win, 'times out of', shuffle_no, 'number of shuffles')\n"
      ]
    }
  ]
}